{
 "cells": [
  {
   "cell_type": "code",
   "execution_count": null,
   "metadata": {},
   "outputs": [],
   "source": [
    "import apache_beam as beam\n",
    "\n",
    "def SplitRow(element):\n",
    "    return element.split(',')\n",
    "\n",
    "p1 = beam.Pipeline()\n",
    "\n",
    "attendance_count = (\n",
    "    \n",
    "   p1\n",
    "    |beam.io.ReadFromText('dept_data.txt')\n",
    "    |beam.Map(SplitRow)\n",
    "    |beam.io.WriteToText('data/output_map')\n",
    "  \n",
    ")\n",
    "\n",
    "p1.run()"
   ]
  },
  {
   "cell_type": "code",
   "execution_count": null,
   "metadata": {},
   "outputs": [],
   "source": [
    "def SplitRow(element):\n",
    "    return element.split(',')\n",
    "\n",
    "p1 = beam.Pipeline()\n",
    "\n",
    "attendance_count = (\n",
    "    \n",
    "   p1\n",
    "    |beam.io.ReadFromText('dept_data.txt')\n",
    "    |beam.FlatMap(SplitRow)\n",
    "    |beam.io.WriteToText('data/output_flatmap')\n",
    "  \n",
    ")\n",
    "\n",
    "p1.run()"
   ]
  },
  {
   "cell_type": "code",
   "execution_count": null,
   "metadata": {},
   "outputs": [],
   "source": [
    "def SplitRow(element):\n",
    "    return [element.split(',')]\n",
    "\n",
    "p1 = beam.Pipeline()\n",
    "\n",
    "attendance_count = (\n",
    "    \n",
    "   p1\n",
    "    |beam.io.ReadFromText('dept_data.txt')\n",
    "    |beam.FlatMap(SplitRow)\n",
    "    |beam.io.WriteToText('data/output_flatmaplst')\n",
    "  \n",
    ")\n",
    "\n",
    "p1.run()"
   ]
  },
  {
   "cell_type": "code",
   "execution_count": null,
   "metadata": {},
   "outputs": [],
   "source": [
    "import apache_beam as beam\n",
    "\n",
    "def SplitRow(element):\n",
    "    return element.split(',')\n",
    "\n",
    "def filtering(record):\n",
    "  return record[3] == 'Accounts'\n",
    "\n",
    "p1 = beam.Pipeline()\n",
    "\n",
    "attendance_count = (\n",
    "    \n",
    "   p1\n",
    "    |beam.io.ReadFromText('dept_data.txt')\n",
    "    |beam.Map(SplitRow)\n",
    "   #| beam.Map(lambda record: record.split(','))\n",
    "\n",
    "    |beam.Filter(filtering)\n",
    "  # |beam.Filter(lambda record: record[3] == 'Accounts')\n",
    "    \n",
    "    |beam.Map(lambda record: (record[1], 1))\n",
    "    |beam.CombinePerKey(sum)\n",
    "    \n",
    "    |beam.io.WriteToText('data/output_att_final')\n",
    "  \n",
    ")\n",
    "\n",
    "p1.run()"
   ]
  },
  {
   "cell_type": "code",
   "execution_count": null,
   "metadata": {},
   "outputs": [],
   "source": [
    "import apache_beam as beam\n",
    "\n",
    "def SplitRow(element):\n",
    "    return element.split(',')\n",
    "\n",
    "def filtering(record):\n",
    "  return record[3] == 'Accounts'\n",
    "\n",
    "with beam.Pipeline() as p1:\n",
    "\n",
    "  attendance_count = (\n",
    "    \n",
    "   p1\n",
    "    |'Read from File' >> beam.io.ReadFromText('dept_data.txt')\n",
    "    |'Map Transform' >> beam.Map(SplitRow)\n",
    "   #| beam.Map(lambda record: record.split(','))\n",
    "\n",
    "    |'Filter Accounts dept' >> beam.Filter(filtering)\n",
    "  # |beam.Filter(lambda record: record[3] == 'Accounts')\n",
    "    \n",
    "    |'Adding count' >> beam.Map(lambda record: (record[1], 1))\n",
    "    |'Combine per key and sum' >> beam.CombinePerKey(sum)\n",
    "    \n",
    "    |'Write into file' >> beam.io.WriteToText('data/output_att_label')\n",
    "  \n",
    "  )"
   ]
  }
 ],
 "metadata": {
  "interpreter": {
   "hash": "9c6a53df084777dbc7caf8f1128350d8e40f096736538d99c42d306b4e4d78b8"
  },
  "kernelspec": {
   "display_name": "Python 3.8.8 64-bit ('beamenv': venv)",
   "language": "python",
   "name": "python3"
  },
  "language_info": {
   "codemirror_mode": {
    "name": "ipython",
    "version": 3
   },
   "file_extension": ".py",
   "mimetype": "text/x-python",
   "name": "python",
   "nbconvert_exporter": "python",
   "pygments_lexer": "ipython3",
   "version": "3.8.8"
  },
  "orig_nbformat": 4
 },
 "nbformat": 4,
 "nbformat_minor": 2
}
