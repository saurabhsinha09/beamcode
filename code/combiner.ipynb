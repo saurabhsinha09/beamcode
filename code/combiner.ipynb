{
 "cells": [
  {
   "cell_type": "code",
   "execution_count": 2,
   "metadata": {},
   "outputs": [
    {
     "name": "stderr",
     "output_type": "stream",
     "text": [
      "WARNING:root:Make sure that locally built Python SDK docker image has Python 3.8 interpreter.\n"
     ]
    },
    {
     "name": "stdout",
     "output_type": "stream",
     "text": [
      "add_input (0.0, 0)\n",
      "add_input (15.0, 1)\n",
      "add_input (20.0, 2)\n",
      "add_input (27.0, 3)\n",
      "add_input (34.0, 4)\n",
      "add_input (43.0, 5)\n",
      "add_input (66.0, 6)\n",
      "add_input (79.0, 7)\n",
      "extract_output (84.0, 8)\n"
     ]
    },
    {
     "data": {
      "text/plain": [
       "<apache_beam.runners.portability.fn_api_runner.fn_runner.RunnerResult at 0x21f9671ebe0>"
      ]
     },
     "execution_count": 2,
     "metadata": {},
     "output_type": "execute_result"
    }
   ],
   "source": [
    "import apache_beam as beam\n",
    "\n",
    "p = beam.Pipeline()\n",
    "\n",
    "class AverageFn(beam.CombineFn):\n",
    "  \n",
    "  def create_accumulator(self):\n",
    "     return (0.0, 0)   # initialize (sum, count)\n",
    "\n",
    "  def add_input(self, sum_count, input):\n",
    "    (sum, count) = sum_count\n",
    "    print(\"add_input\", sum_count)\n",
    "    return sum + input, count + 1\n",
    "\n",
    "  def merge_accumulators(self, accumulators):\n",
    "    \n",
    "    ind_sums, ind_counts = zip(*accumulators)       # zip - [(27, 3), (39, 3), (18, 2)]  -->   [(27,39,18), (3,3,2)]\n",
    "    return sum(ind_sums), sum(ind_counts)        # (84,8)\n",
    "\n",
    "  def extract_output(self, sum_count):    \n",
    "    \n",
    "    (sum, count) = sum_count    # combine globally using CombineFn\n",
    "    print(\"extract_output\", sum_count)\n",
    "    return sum / count if count else float('NaN')\n",
    "  \n",
    "\n",
    "small_sum = (\n",
    "           p \n",
    "            | beam.Create([15,5,7,7,9,23,13,5])\n",
    "            | \"Combine Globally\" >> beam.CombineGlobally(AverageFn()) \n",
    "            | 'Write results' >> beam.io.WriteToText('data/combine')\n",
    "          )\n",
    "p.run()"
   ]
  }
 ],
 "metadata": {
  "interpreter": {
   "hash": "9c6a53df084777dbc7caf8f1128350d8e40f096736538d99c42d306b4e4d78b8"
  },
  "kernelspec": {
   "display_name": "Python 3.8.8 64-bit ('beamenv': venv)",
   "language": "python",
   "name": "python3"
  },
  "language_info": {
   "codemirror_mode": {
    "name": "ipython",
    "version": 3
   },
   "file_extension": ".py",
   "mimetype": "text/x-python",
   "name": "python",
   "nbconvert_exporter": "python",
   "pygments_lexer": "ipython3",
   "version": "3.8.8"
  },
  "orig_nbformat": 4
 },
 "nbformat": 4,
 "nbformat_minor": 2
}
