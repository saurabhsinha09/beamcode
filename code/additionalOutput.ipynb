{
 "cells": [
  {
   "cell_type": "code",
   "execution_count": null,
   "metadata": {},
   "outputs": [],
   "source": [
    "import apache_beam as beam\n",
    "\n",
    "# DoFn function \n",
    "class ProcessWords(beam.DoFn):\n",
    "  \n",
    "  def process(self, element, cutoff_length, marker):\n",
    "    \n",
    "    name = element.split(',')[1]\n",
    "    \n",
    "    if len(name) <= cutoff_length:\n",
    "      return [beam.pvalue.TaggedOutput('Short_Names', name)]\n",
    "    else:\n",
    "      return [beam.pvalue.TaggedOutput('Long_Names', name)]\n",
    "    \n",
    "    if name.startswith(marker):\n",
    "      return name \n",
    "\n",
    "p = beam.Pipeline()\n",
    "      \n",
    "results = (\n",
    "            p\n",
    "            | beam.io.ReadFromText('dept_data.txt')\n",
    "            | beam.ParDo(ProcessWords(), cutoff_length=4, marker='A').with_outputs('Short_Names', 'Long_Names', main='Names_A')\n",
    "          )\n",
    "\n",
    "short_collection = results.Short_Names\n",
    "long_collection = results.Long_Names\n",
    "startA_collection = results.Names_A  \n",
    "\n",
    "# write to file  \n",
    "short_collection | 'Write 1'>> beam.io.WriteToText('data/short')\n",
    "\n",
    "# write to file\n",
    "long_collection | 'Write 2'>> beam.io.WriteToText('data/long')\n",
    "\n",
    "# write to file\n",
    "startA_collection | 'Write 3'>> beam.io.WriteToText('data/start_a')\n",
    "\n",
    "p.run()"
   ]
  }
 ],
 "metadata": {
  "interpreter": {
   "hash": "9c6a53df084777dbc7caf8f1128350d8e40f096736538d99c42d306b4e4d78b8"
  },
  "kernelspec": {
   "display_name": "Python 3.8.8 64-bit ('beamenv': venv)",
   "language": "python",
   "name": "python3"
  },
  "language_info": {
   "codemirror_mode": {
    "name": "ipython",
    "version": 3
   },
   "file_extension": ".py",
   "mimetype": "text/x-python",
   "name": "python",
   "nbconvert_exporter": "python",
   "pygments_lexer": "ipython3",
   "version": "3.8.8"
  },
  "orig_nbformat": 4
 },
 "nbformat": 4,
 "nbformat_minor": 2
}
