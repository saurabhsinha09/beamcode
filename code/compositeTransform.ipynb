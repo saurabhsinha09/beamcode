{
 "cells": [
  {
   "cell_type": "code",
   "execution_count": 1,
   "metadata": {},
   "outputs": [
    {
     "name": "stderr",
     "output_type": "stream",
     "text": [
      "WARNING:apache_beam.runners.interactive.interactive_environment:Dependencies required for Interactive Beam PCollection visualization are not available, please use: `pip install apache-beam[interactive]` to install necessary dependencies to enable all data visualization features.\n"
     ]
    },
    {
     "data": {
      "application/javascript": "\n        if (typeof window.interactive_beam_jquery == 'undefined') {\n          var jqueryScript = document.createElement('script');\n          jqueryScript.src = 'https://code.jquery.com/jquery-3.4.1.slim.min.js';\n          jqueryScript.type = 'text/javascript';\n          jqueryScript.onload = function() {\n            var datatableScript = document.createElement('script');\n            datatableScript.src = 'https://cdn.datatables.net/1.10.20/js/jquery.dataTables.min.js';\n            datatableScript.type = 'text/javascript';\n            datatableScript.onload = function() {\n              window.interactive_beam_jquery = jQuery.noConflict(true);\n              window.interactive_beam_jquery(document).ready(function($){\n                \n              });\n            }\n            document.head.appendChild(datatableScript);\n          };\n          document.head.appendChild(jqueryScript);\n        } else {\n          window.interactive_beam_jquery(document).ready(function($){\n            \n          });\n        }"
     },
     "metadata": {},
     "output_type": "display_data"
    },
    {
     "name": "stderr",
     "output_type": "stream",
     "text": [
      "WARNING:root:Make sure that locally built Python SDK docker image has Python 3.8 interpreter.\n"
     ]
    },
    {
     "data": {
      "text/plain": [
       "<apache_beam.runners.portability.fn_api_runner.fn_runner.RunnerResult at 0x2c4658c3f10>"
      ]
     },
     "execution_count": 1,
     "metadata": {},
     "output_type": "execute_result"
    }
   ],
   "source": [
    "import apache_beam as beam\n",
    "\n",
    "class MyTransform(beam.PTransform):\n",
    "  \n",
    "  def expand(self, input_coll):\n",
    "    \n",
    "    a = ( \n",
    "        input_coll\n",
    "                       | 'Group and sum1' >> beam.CombinePerKey(sum)\n",
    "                       | 'count filter accounts' >> beam.Filter(filter_on_count)\n",
    "                       | 'Regular accounts employee' >> beam.Map(format_output)\n",
    "              \n",
    "    )\n",
    "    return a\n",
    "\n",
    "def SplitRow(element):\n",
    "    return element.split(',')\n",
    "  \n",
    "def filter_on_count(element):\n",
    "  name, count = element\n",
    "  if count > 30:\n",
    "    return element\n",
    "  \n",
    "def format_output(element):\n",
    "  name, count = element\n",
    "  #return ', '.join((name.encode('ascii'),str(count),'Regular employee'))\n",
    "  return ', '.join((name,str(count),'Regular employee'))\n",
    "\n",
    "p = beam.Pipeline()\n",
    "\n",
    "input_collection = ( \n",
    "                      p \n",
    "                      | \"Read from text file\" >> beam.io.ReadFromText('dept_data.txt')\n",
    "                      | \"Split rows\" >> beam.Map(SplitRow)\n",
    "                   )\n",
    "\n",
    "accounts_count = (\n",
    "                      input_collection\n",
    "                      | 'Get all Accounts dept persons' >> beam.Filter(lambda record: record[3] == 'Accounts')\n",
    "                      | 'Pair each accounts employee with 1' >> beam.Map(lambda record: (\"Accounts, \" +record[1], 1))\n",
    "                      | 'composite accounts' >> MyTransform()\n",
    "                      | 'Write results for account' >> beam.io.WriteToText('data/CTAccount')\n",
    "                 )\n",
    "\n",
    "hr_count = (\n",
    "                input_collection\n",
    "                | 'Get all HR dept persons' >> beam.Filter(lambda record: record[3] == 'HR')\n",
    "                | 'Pair each hr employee with 1' >> beam.Map(lambda record: (\"HR, \" +record[1], 1))\n",
    "                | 'composite HR' >> MyTransform()\n",
    "                | 'Write results for hr' >> beam.io.WriteToText('data/CTHR')\n",
    "           ) \n",
    "p.run()"
   ]
  }
 ],
 "metadata": {
  "interpreter": {
   "hash": "9c6a53df084777dbc7caf8f1128350d8e40f096736538d99c42d306b4e4d78b8"
  },
  "kernelspec": {
   "display_name": "Python 3.8.8 64-bit ('beamenv': venv)",
   "language": "python",
   "name": "python3"
  },
  "language_info": {
   "codemirror_mode": {
    "name": "ipython",
    "version": 3
   },
   "file_extension": ".py",
   "mimetype": "text/x-python",
   "name": "python",
   "nbconvert_exporter": "python",
   "pygments_lexer": "ipython3",
   "version": "3.8.8"
  },
  "orig_nbformat": 4
 },
 "nbformat": 4,
 "nbformat_minor": 2
}
