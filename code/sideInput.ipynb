{
 "cells": [
  {
   "cell_type": "code",
   "execution_count": null,
   "metadata": {},
   "outputs": [],
   "source": [
    "import apache_beam as beam\n",
    "\n",
    "side_list=list()\n",
    "with open ('exclude_ids.txt','r') as my_file:\n",
    "  for line in my_file:\n",
    "    side_list.append(line.rstrip())\n",
    "\n",
    "p = beam.Pipeline()\n",
    "\n",
    "# We can pass side inputs to a ParDo transform, which will get passed to its process method.\n",
    "# The first two arguments for the process method would be self and element.\n",
    "\n",
    "class FilterUsingLength(beam.DoFn):\n",
    "  def process(self, element,side_list,lower_bound, upper_bound=float('inf')):\n",
    "    id = element.split(',')[0]\n",
    "    name = element.split(',')[1]\n",
    "    #id=id.decode('utf-8','ignore').encode(\"utf-8\")\n",
    "    element_list= element.split(',')\n",
    "    if (lower_bound <= len(name) <= upper_bound) and id not in side_list:\n",
    "      return [element_list]\n",
    "\n",
    "# using pardo to filter names with length between 3 and 10\n",
    "small_names =( \n",
    "                p\n",
    "                | \"Read from text file\" >> beam.io.ReadFromText('dept_data.txt')\n",
    "                | \"ParDo with side inputs\" >> beam.ParDo(FilterUsingLength(),side_list,3,10) \n",
    "                | beam.Filter(lambda record: record[3] == 'Accounts')\n",
    "                | beam.Map(lambda record: (record[0]+ \" \" + record[1], 1))\n",
    "                | beam.CombinePerKey(sum)\n",
    "                | 'Write results' >> beam.io.WriteToText('data/sidelist')\n",
    "             )\n",
    "\n",
    "p.run()"
   ]
  }
 ],
 "metadata": {
  "interpreter": {
   "hash": "9c6a53df084777dbc7caf8f1128350d8e40f096736538d99c42d306b4e4d78b8"
  },
  "kernelspec": {
   "display_name": "Python 3.8.8 64-bit ('beamenv': venv)",
   "language": "python",
   "name": "python3"
  },
  "language_info": {
   "codemirror_mode": {
    "name": "ipython",
    "version": 3
   },
   "file_extension": ".py",
   "mimetype": "text/x-python",
   "name": "python",
   "nbconvert_exporter": "python",
   "pygments_lexer": "ipython3",
   "version": "3.8.8"
  },
  "orig_nbformat": 4
 },
 "nbformat": 4,
 "nbformat_minor": 2
}
