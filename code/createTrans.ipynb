{
 "cells": [
  {
   "cell_type": "code",
   "execution_count": null,
   "metadata": {},
   "outputs": [],
   "source": [
    "import apache_beam as beam\n",
    "\n",
    "p2 = beam.Pipeline()\n",
    "\n",
    "lines = (\n",
    "            p2\n",
    "            | beam.Create([\n",
    "               'Using create transform ',\n",
    "               'to generate in memory data ',\n",
    "               'This is 3rd line ',\n",
    "               'Thanks '])\n",
    "     \n",
    "            | beam.io.WriteToText('data/outCreate1')\n",
    "          )\n",
    "p2.run() "
   ]
  },
  {
   "cell_type": "code",
   "execution_count": null,
   "metadata": {},
   "outputs": [],
   "source": [
    "p3 = beam.Pipeline()\n",
    "\n",
    "lines1 = (p3\n",
    "           \n",
    "           | beam.Create([1,2,3,4,5,6,7,8,9])\n",
    "           \n",
    "           | beam.io.WriteToText('data/outCreate2')\n",
    "          )\n",
    "p3.run()"
   ]
  },
  {
   "cell_type": "code",
   "execution_count": null,
   "metadata": {},
   "outputs": [],
   "source": [
    "import apache_beam as beam\n",
    "\n",
    "p4 = beam.Pipeline()\n",
    "\n",
    "lines = (p4\n",
    "           | beam.Create([(\"maths\",52),(\"english\",75),(\"science\",82), (\"computer\",65),(\"maths\",85)])\n",
    "         \n",
    "            | beam.io.WriteToText('data/outCreate3')\n",
    "          )\n",
    "p4.run()"
   ]
  },
  {
   "cell_type": "code",
   "execution_count": null,
   "metadata": {},
   "outputs": [],
   "source": [
    "p5 = beam.Pipeline()\n",
    "\n",
    "lines = ( p5\n",
    "         \n",
    "       | beam.Create({'row1':[1,2,3,4,5],\n",
    "                     'row2':[1,2,3,4,5]})\n",
    "       | beam.Map(lambda element: element)\n",
    "       | beam.io.WriteToText('data/outCreate4')\n",
    "  )\n",
    "  \n",
    "p5.run()"
   ]
  }
 ],
 "metadata": {
  "interpreter": {
   "hash": "9c6a53df084777dbc7caf8f1128350d8e40f096736538d99c42d306b4e4d78b8"
  },
  "kernelspec": {
   "display_name": "Python 3.8.8 64-bit ('beamenv': venv)",
   "language": "python",
   "name": "python3"
  },
  "language_info": {
   "codemirror_mode": {
    "name": "ipython",
    "version": 3
   },
   "file_extension": ".py",
   "mimetype": "text/x-python",
   "name": "python",
   "nbconvert_exporter": "python",
   "pygments_lexer": "ipython3",
   "version": "3.8.8"
  },
  "orig_nbformat": 4
 },
 "nbformat": 4,
 "nbformat_minor": 2
}
