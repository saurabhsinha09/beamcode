{
 "cells": [
  {
   "cell_type": "code",
   "execution_count": null,
   "metadata": {},
   "outputs": [],
   "source": [
    "import apache_beam as beam\n",
    "\n",
    "p = beam.Pipeline()\n",
    "\n",
    "evens = ( p \n",
    "         | beam.Create(['one','two','three']) \n",
    "         | beam.Filter(lambda x: x % 2 == 0).with_input_types(int) \n",
    "        )\n",
    "  \n",
    "p.run()"
   ]
  },
  {
   "cell_type": "code",
   "execution_count": null,
   "metadata": {},
   "outputs": [],
   "source": [
    "# import beam module\n",
    "import apache_beam as beam\n",
    "\n",
    "p = beam.Pipeline()\n",
    "\n",
    "@beam.typehints.with_input_types(int)\n",
    "class FilterEvensDoFn(beam.DoFn):\n",
    "  def process(self, element):\n",
    "    if element % 2 == 0:\n",
    "      yield element\n",
    "\n",
    "evens = ( p\n",
    "         | beam.Create(['1','2','3'])\n",
    "         | beam.ParDo(FilterEvensDoFn()) \n",
    "        )\n",
    "  \n",
    "p.run()"
   ]
  },
  {
   "cell_type": "code",
   "execution_count": null,
   "metadata": {},
   "outputs": [],
   "source": [
    "import apache_beam as beam\n",
    "import typing\n",
    "\n",
    "class Employee(object):\n",
    "  def __init__(self, id, name):\n",
    "    self.id = id\n",
    "    self.name = name\n",
    "\n",
    "class EmployeeCoder(beam.coders.Coder):\n",
    "\n",
    "  def encode(self, employee):\n",
    "    return ('%s:%s' % (employee.id, employee.name)).encode('utf-8')\n",
    "\n",
    "  def decode(self, s):\n",
    "    return Employee(*s.decode('utf-8').split(':'))\n",
    "\n",
    "  def is_deterministic(self):\n",
    "    return True\n",
    "\n",
    "beam.coders.registry.register_coder(Employee, EmployeeCoder)\n",
    "\n",
    "def split_file(input):\n",
    "  name, id, salary = input.split(',')\n",
    "  return Employee(id, name), int(salary)\n",
    "\n",
    "result = (\n",
    "    p\n",
    "\t| beam.io.ReadFromText('data.txt')\n",
    "    | beam.Map(split_file)\n",
    "    | beam.CombinePerKey(sum).with_input_types(typing.Tuple[Employee, int])\n",
    "\t)\n",
    "\t\n",
    "p.run()\t"
   ]
  }
 ],
 "metadata": {
  "interpreter": {
   "hash": "9c6a53df084777dbc7caf8f1128350d8e40f096736538d99c42d306b4e4d78b8"
  },
  "kernelspec": {
   "display_name": "Python 3.8.8 64-bit ('beamenv': venv)",
   "language": "python",
   "name": "python3"
  },
  "language_info": {
   "codemirror_mode": {
    "name": "ipython",
    "version": 3
   },
   "file_extension": ".py",
   "mimetype": "text/x-python",
   "name": "python",
   "nbconvert_exporter": "python",
   "pygments_lexer": "ipython3",
   "version": "3.8.8"
  },
  "orig_nbformat": 4
 },
 "nbformat": 4,
 "nbformat_minor": 2
}
