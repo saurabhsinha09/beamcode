{
 "cells": [
  {
   "cell_type": "code",
   "execution_count": null,
   "metadata": {},
   "outputs": [],
   "source": [
    "import apache_beam as beam\n",
    "\n",
    "def splitrow(element):\n",
    "   return element.split(' ')\n",
    "\n",
    "p1 = beam.Pipeline()\n",
    "\n",
    "pclln1 = (\n",
    "    p1\n",
    "       | beam.io.ReadFromText('data.txt')\n",
    "       | beam.Map(lambda word : word.lower())\n",
    "       | beam.Map(lambda wor : wor.replace('\\t',''))\n",
    "       | beam.FlatMap(splitrow)\n",
    "       \n",
    "       | beam.Map(lambda rec : (rec,1))\n",
    "       | beam.CombinePerKey(sum)\n",
    "       | beam.io.WriteToText('data/asssi')\n",
    ")\n",
    "p1.run()"
   ]
  }
 ],
 "metadata": {
  "interpreter": {
   "hash": "9c6a53df084777dbc7caf8f1128350d8e40f096736538d99c42d306b4e4d78b8"
  },
  "kernelspec": {
   "display_name": "Python 3.8.8 64-bit ('beamenv': venv)",
   "language": "python",
   "name": "python3"
  },
  "language_info": {
   "codemirror_mode": {
    "name": "ipython",
    "version": 3
   },
   "file_extension": ".py",
   "mimetype": "text/x-python",
   "name": "python",
   "nbconvert_exporter": "python",
   "pygments_lexer": "ipython3",
   "version": "3.8.8"
  },
  "orig_nbformat": 4
 },
 "nbformat": 4,
 "nbformat_minor": 2
}
