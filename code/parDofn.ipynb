{
 "cells": [
  {
   "cell_type": "code",
   "execution_count": null,
   "metadata": {},
   "outputs": [],
   "source": [
    "import apache_beam as beam\n",
    "\n",
    "class SplitRow(beam.DoFn):\n",
    "  \n",
    "  def process(self, element):\n",
    "    # return type -> list\n",
    "    return  [element.split(',')]\n",
    "\n",
    "class FilterAccountsEmployee(beam.DoFn):\n",
    "  \n",
    "  def process(self, element):\n",
    "    if element[3] == 'Accounts':\n",
    "      return [element]  \n",
    "    \n",
    "class PairEmployees(beam.DoFn):\n",
    "  \n",
    "  def process(self, element):\n",
    "    return [(element[3]+\",\"+element[1], 1)]    \n",
    "  \n",
    "class Counting(beam.DoFn):\n",
    "  \n",
    "  def process(self, element):\n",
    "    # return type -> list\n",
    "    (key, values) = element           # [Marco, Accounts  [1,1,1,1....] , Rebekah, Accounts [1,1,1,1,....] ]\n",
    "    return [(key, sum(values))]\n",
    "     \n",
    "p1 = beam.Pipeline()\n",
    "\n",
    "attendance_count = (\n",
    "    \n",
    "   p1\n",
    "    |beam.io.ReadFromText('dept_data.txt')\n",
    "    \n",
    "    |beam.ParDo(SplitRow())\n",
    "   # | 'Compute WordLength' >> beam.ParDo(lambda element: [ element.split(',') ]) \n",
    "\n",
    "    |beam.ParDo(FilterAccountsEmployee())\n",
    "    |beam.ParDo(PairEmployees())\n",
    "    | 'Group ' >> beam.GroupByKey()\n",
    "    | 'Sum using ParDo' >> beam.ParDo(Counting())  \n",
    "    \n",
    "    |beam.io.WriteToText('data/output_pardo')\n",
    "  \n",
    ")\n",
    "\n",
    "p1.run()"
   ]
  }
 ],
 "metadata": {
  "interpreter": {
   "hash": "9c6a53df084777dbc7caf8f1128350d8e40f096736538d99c42d306b4e4d78b8"
  },
  "kernelspec": {
   "display_name": "Python 3.8.8 64-bit ('beamenv': venv)",
   "language": "python",
   "name": "python3"
  },
  "language_info": {
   "codemirror_mode": {
    "name": "ipython",
    "version": 3
   },
   "file_extension": ".py",
   "mimetype": "text/x-python",
   "name": "python",
   "nbconvert_exporter": "python",
   "pygments_lexer": "ipython3",
   "version": "3.8.8"
  },
  "orig_nbformat": 4
 },
 "nbformat": 4,
 "nbformat_minor": 2
}
