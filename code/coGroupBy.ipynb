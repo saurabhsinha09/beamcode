{
 "cells": [
  {
   "cell_type": "code",
   "execution_count": null,
   "metadata": {},
   "outputs": [],
   "source": [
    "import apache_beam as beam\n",
    "\n",
    "def retTuple(element):\n",
    "  \n",
    "  thisTuple=element.split(',')\n",
    "  return (thisTuple[0],thisTuple[1:])\n",
    "                \n",
    "p1 = beam.Pipeline()\n",
    "\n",
    "# Apply a ParDo to the PCollection \"words\" to compute lengths for each word.\n",
    "dep_rows = ( \n",
    "                p1\n",
    "                | \"Reading File 1\" >> beam.io.ReadFromText('dept_data.txt')\n",
    "                | 'Pair each employee with key' >> beam.Map(retTuple)          # {149633CM : [Marco,10,Accounts,1-01-2019]}\n",
    "                #| 'Write results of dep' >> beam.io.WriteToText('data/dep')\n",
    "               )\n",
    "\n",
    "\n",
    "loc_rows = ( \n",
    "                p1\n",
    "                | \"Reading File 2\" >> beam.io.ReadFromText('location.txt') \n",
    "                | 'Pair each loc with key' >> beam.Map(retTuple)                # {149633CM : [9876843261,New York]}\n",
    "                #| 'Write results of loc' >> beam.io.WriteToText('data/loc')\n",
    "               )\n",
    "\n",
    "\n",
    "results = ({'dep_data': dep_rows, 'loc_data': loc_rows}            \n",
    "           | beam.CoGroupByKey()\n",
    "           | 'Write results' >> beam.io.WriteToText('data/cogroupby')\n",
    "          )\n",
    "\n",
    "p1.run()"
   ]
  }
 ],
 "metadata": {
  "interpreter": {
   "hash": "9c6a53df084777dbc7caf8f1128350d8e40f096736538d99c42d306b4e4d78b8"
  },
  "kernelspec": {
   "display_name": "Python 3.8.8 64-bit ('beamenv': venv)",
   "language": "python",
   "name": "python3"
  },
  "language_info": {
   "codemirror_mode": {
    "name": "ipython",
    "version": 3
   },
   "file_extension": ".py",
   "mimetype": "text/x-python",
   "name": "python",
   "nbconvert_exporter": "python",
   "pygments_lexer": "ipython3",
   "version": "3.8.8"
  },
  "orig_nbformat": 4
 },
 "nbformat": 4,
 "nbformat_minor": 2
}
